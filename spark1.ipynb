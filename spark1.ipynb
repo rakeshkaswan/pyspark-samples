{
 "cells": [
  {
   "cell_type": "markdown",
   "metadata": {},
   "source": [
    "## Below is the location of file on my local\n",
    "/home/logic/Downloads/export00.csv"
   ]
  },
  {
   "cell_type": "markdown",
   "metadata": {},
   "source": [
    "### checking sc version"
   ]
  },
  {
   "cell_type": "code",
   "execution_count": 22,
   "metadata": {},
   "outputs": [
    {
     "data": {
      "text/plain": [
       "u'1.6.2'"
      ]
     },
     "execution_count": 22,
     "metadata": {},
     "output_type": "execute_result"
    }
   ],
   "source": [
    "sc.version"
   ]
  },
  {
   "cell_type": "markdown",
   "metadata": {},
   "source": [
    "## Loading File by sc"
   ]
  },
  {
   "cell_type": "code",
   "execution_count": 2,
   "metadata": {
    "collapsed": true
   },
   "outputs": [],
   "source": [
    "csv_data = sc.textFile(\"/home/logic/Downloads/export00.csv\")"
   ]
  },
  {
   "cell_type": "markdown",
   "metadata": {},
   "source": [
    "## checking first Row"
   ]
  },
  {
   "cell_type": "code",
   "execution_count": 7,
   "metadata": {},
   "outputs": [
    {
     "data": {
      "text/plain": [
       "u'DATE_VALEUR;HEURE_VALEUR;VALEUR;ID_EQUIPEMENT;LIBELLE_EQUIPEMENT;ID_GENIECIVIL;LIBELLE_GENIECIVIL;X_GC;Y_GC;ID_STATION;LIBELLE_STATION;X_STATION;Y_STATION;ID_RESEAU;LIBELLE_RESEAU;ID_PARAMETRE;LIBELLE_PARAMETRE;ID_UNITE;LIBELLE_UNITE'"
      ]
     },
     "execution_count": 7,
     "metadata": {},
     "output_type": "execute_result"
    }
   ],
   "source": [
    "csv_data.first()"
   ]
  },
  {
   "cell_type": "markdown",
   "metadata": {},
   "source": [
    "## (;) semi collon separte eache row (conver string to list)"
   ]
  },
  {
   "cell_type": "code",
   "execution_count": 12,
   "metadata": {
    "collapsed": true
   },
   "outputs": [],
   "source": [
    "seprated_csv_data = csv_data.map(lambda x:x.split(\";\"))"
   ]
  },
  {
   "cell_type": "markdown",
   "metadata": {},
   "source": [
    "#### Assigning first row into header_row variable"
   ]
  },
  {
   "cell_type": "code",
   "execution_count": 15,
   "metadata": {},
   "outputs": [
    {
     "data": {
      "text/plain": [
       "[u'DATE_VALEUR',\n",
       " u'HEURE_VALEUR',\n",
       " u'VALEUR',\n",
       " u'ID_EQUIPEMENT',\n",
       " u'LIBELLE_EQUIPEMENT',\n",
       " u'ID_GENIECIVIL',\n",
       " u'LIBELLE_GENIECIVIL',\n",
       " u'X_GC',\n",
       " u'Y_GC',\n",
       " u'ID_STATION',\n",
       " u'LIBELLE_STATION',\n",
       " u'X_STATION',\n",
       " u'Y_STATION',\n",
       " u'ID_RESEAU',\n",
       " u'LIBELLE_RESEAU',\n",
       " u'ID_PARAMETRE',\n",
       " u'LIBELLE_PARAMETRE',\n",
       " u'ID_UNITE',\n",
       " u'LIBELLE_UNITE']"
      ]
     },
     "execution_count": 15,
     "metadata": {},
     "output_type": "execute_result"
    }
   ],
   "source": [
    "header_row = seprated_csv_data.first()\n",
    "header_row"
   ]
  },
  {
   "cell_type": "markdown",
   "metadata": {},
   "source": [
    "#### now filter out first row of data"
   ]
  },
  {
   "cell_type": "code",
   "execution_count": 19,
   "metadata": {},
   "outputs": [
    {
     "data": {
      "text/plain": [
       "[[u'20180103',\n",
       "  u'10000',\n",
       "  u'2441,3',\n",
       "  u'1307374417',\n",
       "  u'Pompe de rel\\xe8vement',\n",
       "  u'-183797836',\n",
       "  u'Poste de refoulement',\n",
       "  u'844610',\n",
       "  u'6629692',\n",
       "  u'null',\n",
       "  u'/',\n",
       "  u'null',\n",
       "  u'null',\n",
       "  u'60871189001',\n",
       "  u'EPERVANS',\n",
       "  u'NEP01',\n",
       "  u'Temps de fonctionnement',\n",
       "  u'59',\n",
       "  u'heure ']]"
      ]
     },
     "execution_count": 19,
     "metadata": {},
     "output_type": "execute_result"
    }
   ],
   "source": [
    "final_data_rdd = seprated_csv_data.filter(lambda row:row != header_row)\n",
    "final_data_rdd.take(1)"
   ]
  },
  {
   "cell_type": "markdown",
   "metadata": {},
   "source": [
    "## Convert this rdd to dataFrame"
   ]
  },
  {
   "cell_type": "code",
   "execution_count": 25,
   "metadata": {
    "collapsed": true
   },
   "outputs": [],
   "source": [
    "from pyspark.sql import SQLContext\n",
    "sqlContext = SQLContext(sc)"
   ]
  },
  {
   "cell_type": "code",
   "execution_count": 26,
   "metadata": {},
   "outputs": [
    {
     "name": "stdout",
     "output_type": "stream",
     "text": [
      "+-----------+------------+-------+-------------+--------------------+-------------+--------------------+------+-------+----------+---------------+---------+---------+-----------+--------------+------------+--------------------+--------+-------------+\n",
      "|DATE_VALEUR|HEURE_VALEUR| VALEUR|ID_EQUIPEMENT|  LIBELLE_EQUIPEMENT|ID_GENIECIVIL|  LIBELLE_GENIECIVIL|  X_GC|   Y_GC|ID_STATION|LIBELLE_STATION|X_STATION|Y_STATION|  ID_RESEAU|LIBELLE_RESEAU|ID_PARAMETRE|   LIBELLE_PARAMETRE|ID_UNITE|LIBELLE_UNITE|\n",
      "+-----------+------------+-------+-------------+--------------------+-------------+--------------------+------+-------+----------+---------------+---------+---------+-----------+--------------+------------+--------------------+--------+-------------+\n",
      "|   20180103|       10000| 2441,3|   1307374417| Pompe de relèvement|   -183797836|Poste de refoulement|844610|6629692|      null|              /|     null|     null|60871189001|      EPERVANS|       NEP01|Temps de fonction...|      59|       heure |\n",
      "|   20180103|       10000|  37709|   1307374417| Pompe de relèvement|   -183797836|Poste de refoulement|844610|6629692|      null|              /|     null|     null|60871189001|      EPERVANS|       NEP02|Nombre de demarrages|     214|      nombre |\n",
      "|   20180103|           0|2323,14|  -1803449538| Pompe de relèvement|   -183797836|Poste de refoulement|844610|6629692|      null|              /|     null|     null|60871189001|      EPERVANS|       NEP01|Temps de fonction...|      59|       heure |\n",
      "|   20180103|           0|  29515|  -1803449538| Pompe de relèvement|   -183797836|Poste de refoulement|844610|6629692|      null|              /|     null|     null|60871189001|      EPERVANS|       NEP02|Nombre de demarrages|     214|      nombre |\n",
      "|   20180103|           0|2441,16|   1307374417| Pompe de relèvement|   -183797836|Poste de refoulement|844610|6629692|      null|              /|     null|     null|60871189001|      EPERVANS|       NEP01|Temps de fonction...|      59|       heure |\n",
      "|   20180103|           0|  37706|   1307374417| Pompe de relèvement|   -183797836|Poste de refoulement|844610|6629692|      null|              /|     null|     null|60871189001|      EPERVANS|       NEP02|Nombre de demarrages|     214|      nombre |\n",
      "|   20180102|      230000|2323,03|  -1803449538| Pompe de relèvement|   -183797836|Poste de refoulement|844610|6629692|      null|              /|     null|     null|60871189001|      EPERVANS|       NEP01|Temps de fonction...|      59|       heure |\n",
      "|   20180102|      230000|  29512|  -1803449538| Pompe de relèvement|   -183797836|Poste de refoulement|844610|6629692|      null|              /|     null|     null|60871189001|      EPERVANS|       NEP02|Nombre de demarrages|     214|      nombre |\n",
      "|   20180102|      230000|2441,02|   1307374417| Pompe de relèvement|   -183797836|Poste de refoulement|844610|6629692|      null|              /|     null|     null|60871189001|      EPERVANS|       NEP01|Temps de fonction...|      59|       heure |\n",
      "|   20180102|      230000|  37703|   1307374417| Pompe de relèvement|   -183797836|Poste de refoulement|844610|6629692|      null|              /|     null|     null|60871189001|      EPERVANS|       NEP02|Nombre de demarrages|     214|      nombre |\n",
      "|   20180103|       30000|  11801|  -1710583383|Pompe de refoulement|    287959491|Poste de refoulement|  null|   null|1011103141|   MARNAY/Bourg|   846162|  6624570|       null|          null|       NEP02|Nombre de demarrages|     214|      nombre |\n",
      "|   20180103|       30000|  280,7|  -1910290104|Pompe de refoulement|    287959491|Poste de refoulement|  null|   null|1011103141|   MARNAY/Bourg|   846162|  6624570|       null|          null|       NEP01|Temps de fonction...|      59|       heure |\n",
      "|   20180103|       30000|  11809|  -1910290104|Pompe de refoulement|    287959491|Poste de refoulement|  null|   null|1011103141|   MARNAY/Bourg|   846162|  6624570|       null|          null|       NEP02|Nombre de demarrages|     214|      nombre |\n",
      "|   20180103|       20000|  11795|  -1710583383|Pompe de refoulement|    287959491|Poste de refoulement|  null|   null|1011103141|   MARNAY/Bourg|   846162|  6624570|       null|          null|       NEP02|Nombre de demarrages|     214|      nombre |\n",
      "|   20180103|       20000| 280,54|  -1910290104|Pompe de refoulement|    287959491|Poste de refoulement|  null|   null|1011103141|   MARNAY/Bourg|   846162|  6624570|       null|          null|       NEP01|Temps de fonction...|      59|       heure |\n",
      "|   20180103|       20000|  11803|  -1910290104|Pompe de refoulement|    287959491|Poste de refoulement|  null|   null|1011103141|   MARNAY/Bourg|   846162|  6624570|       null|          null|       NEP02|Nombre de demarrages|     214|      nombre |\n",
      "|   20180103|       10000|  11789|  -1710583383|Pompe de refoulement|    287959491|Poste de refoulement|  null|   null|1011103141|   MARNAY/Bourg|   846162|  6624570|       null|          null|       NEP02|Nombre de demarrages|     214|      nombre |\n",
      "|   20180103|       10000|  280,4|  -1910290104|Pompe de refoulement|    287959491|Poste de refoulement|  null|   null|1011103141|   MARNAY/Bourg|   846162|  6624570|       null|          null|       NEP01|Temps de fonction...|      59|       heure |\n",
      "|   20180103|       10000|  11798|  -1910290104|Pompe de refoulement|    287959491|Poste de refoulement|  null|   null|1011103141|   MARNAY/Bourg|   846162|  6624570|       null|          null|       NEP02|Nombre de demarrages|     214|      nombre |\n",
      "|   20180103|           0|  11783|  -1710583383|Pompe de refoulement|    287959491|Poste de refoulement|  null|   null|1011103141|   MARNAY/Bourg|   846162|  6624570|       null|          null|       NEP02|Nombre de demarrages|     214|      nombre |\n",
      "+-----------+------------+-------+-------------+--------------------+-------------+--------------------+------+-------+----------+---------------+---------+---------+-----------+--------------+------------+--------------------+--------+-------------+\n",
      "only showing top 20 rows\n",
      "\n"
     ]
    }
   ],
   "source": [
    "final_data = final_data_rdd.toDF(header_row)\n",
    "final_data.show()"
   ]
  },
  {
   "cell_type": "markdown",
   "metadata": {
    "collapsed": true
   },
   "source": [
    "## Read these comments\n",
    "All above process we have done in spark version 1.6 if you have spark > 2.0 then use below\n",
    "\n",
    "final_data = spark.read.format(\"csv\").option(\"header\", \"true\").load(\"/home/logic/Downloads/export00.csv\")"
   ]
  },
  {
   "cell_type": "markdown",
   "metadata": {},
   "source": [
    "#### Count total records "
   ]
  },
  {
   "cell_type": "code",
   "execution_count": 28,
   "metadata": {},
   "outputs": [
    {
     "data": {
      "text/plain": [
       "433201"
      ]
     },
     "execution_count": 28,
     "metadata": {},
     "output_type": "execute_result"
    }
   ],
   "source": [
    "final_data.count()"
   ]
  },
  {
   "cell_type": "markdown",
   "metadata": {},
   "source": [
    "#### Count distinct DATE_VALEUR"
   ]
  },
  {
   "cell_type": "code",
   "execution_count": 29,
   "metadata": {},
   "outputs": [
    {
     "data": {
      "text/plain": [
       "27"
      ]
     },
     "execution_count": 29,
     "metadata": {},
     "output_type": "execute_result"
    }
   ],
   "source": [
    "final_data.select(\"DATE_VALEUR\").distinct().count()"
   ]
  },
  {
   "cell_type": "markdown",
   "metadata": {},
   "source": [
    "#### Count distinct DATE_VALEUR"
   ]
  },
  {
   "cell_type": "code",
   "execution_count": 30,
   "metadata": {},
   "outputs": [
    {
     "data": {
      "text/plain": [
       "14"
      ]
     },
     "execution_count": 30,
     "metadata": {},
     "output_type": "execute_result"
    }
   ],
   "source": [
    "final_data.select(\"LIBELLE_EQUIPEMENT\").distinct().count()"
   ]
  },
  {
   "cell_type": "markdown",
   "metadata": {},
   "source": [
    "#### Check some stats"
   ]
  },
  {
   "cell_type": "code",
   "execution_count": 35,
   "metadata": {},
   "outputs": [
    {
     "name": "stdout",
     "output_type": "stream",
     "text": [
      "+-------+\n",
      "|summary|\n",
      "+-------+\n",
      "|count  |\n",
      "|mean   |\n",
      "|stddev |\n",
      "|min    |\n",
      "|max    |\n",
      "+-------+\n",
      "\n"
     ]
    }
   ],
   "source": [
    "final_data.describe().show(truncate=False)"
   ]
  },
  {
   "cell_type": "markdown",
   "metadata": {},
   "source": [
    "#### Count distinct LIBELLE_EQUIPEMENT in each DATE_VALEUR"
   ]
  },
  {
   "cell_type": "code",
   "execution_count": 39,
   "metadata": {
    "collapsed": true
   },
   "outputs": [],
   "source": [
    "from pyspark.sql import functions as F"
   ]
  },
  {
   "cell_type": "code",
   "execution_count": 40,
   "metadata": {},
   "outputs": [
    {
     "name": "stdout",
     "output_type": "stream",
     "text": [
      "+-----------+-------------------------+\n",
      "|DATE_VALEUR|count(LIBELLE_EQUIPEMENT)|\n",
      "+-----------+-------------------------+\n",
      "|   20180101|                       14|\n",
      "|   20180102|                       14|\n",
      "|   20180103|                       14|\n",
      "|   20180104|                       14|\n",
      "|   20180105|                       14|\n",
      "|   20180106|                       14|\n",
      "|   20180107|                       14|\n",
      "|   20180108|                       14|\n",
      "|   20180109|                       14|\n",
      "|   20180110|                       14|\n",
      "|   20180111|                       14|\n",
      "|   20180112|                       14|\n",
      "|   20180113|                       14|\n",
      "|   20180114|                       14|\n",
      "|   20180115|                       14|\n",
      "|   20180116|                       14|\n",
      "|   20180117|                       14|\n",
      "|   20180118|                       14|\n",
      "|   20180119|                       14|\n",
      "|   20180120|                       14|\n",
      "+-----------+-------------------------+\n",
      "only showing top 20 rows\n",
      "\n"
     ]
    }
   ],
   "source": [
    "final_data.groupby(\"DATE_VALEUR\").agg(F.countDistinct(\"LIBELLE_EQUIPEMENT\")).show()"
   ]
  },
  {
   "cell_type": "markdown",
   "metadata": {},
   "source": [
    "Each LIBELLE_EQUIPEMENT has been used in each week"
   ]
  },
  {
   "cell_type": "code",
   "execution_count": null,
   "metadata": {
    "collapsed": true
   },
   "outputs": [],
   "source": []
  }
 ],
 "metadata": {
  "kernelspec": {
   "display_name": "Python 2",
   "language": "python",
   "name": "python2"
  },
  "language_info": {
   "codemirror_mode": {
    "name": "ipython",
    "version": 2
   },
   "file_extension": ".py",
   "mimetype": "text/x-python",
   "name": "python",
   "nbconvert_exporter": "python",
   "pygments_lexer": "ipython2",
   "version": "2.7.6"
  }
 },
 "nbformat": 4,
 "nbformat_minor": 2
}
