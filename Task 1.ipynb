{
 "cells": [
  {
   "cell_type": "code",
   "execution_count": 1,
   "metadata": {},
   "outputs": [
    {
     "data": {
      "text/plain": [
       "u'1.6.2'"
      ]
     },
     "execution_count": 1,
     "metadata": {},
     "output_type": "execute_result"
    }
   ],
   "source": [
    "sc.version"
   ]
  },
  {
   "cell_type": "code",
   "execution_count": 2,
   "metadata": {
    "collapsed": true
   },
   "outputs": [],
   "source": [
    "from pyspark.sql import functions as F\n",
    "from pyspark.sql.window import Window as W"
   ]
  },
  {
   "cell_type": "markdown",
   "metadata": {},
   "source": [
    "# Finding Insights/Rough Work -- Start"
   ]
  },
  {
   "cell_type": "code",
   "execution_count": 3,
   "metadata": {
    "collapsed": true
   },
   "outputs": [],
   "source": [
    "df = sqlContext.read.parquet(\"data\")"
   ]
  },
  {
   "cell_type": "code",
   "execution_count": 4,
   "metadata": {},
   "outputs": [
    {
     "name": "stdout",
     "output_type": "stream",
     "text": [
      "root\n",
      " |-- collector_ts: timestamp (nullable = true)\n",
      " |-- event_id: string (nullable = true)\n",
      " |-- device_tstamp: timestamp (nullable = true)\n",
      " |-- cookie_id: string (nullable = true)\n",
      " |-- session_id: string (nullable = true)\n",
      " |-- email_id: string (nullable = true)\n",
      " |-- page_id: string (nullable = true)\n",
      " |-- date: string (nullable = true)\n",
      "\n"
     ]
    }
   ],
   "source": [
    "#priniting Schema for checking data types\n",
    "df.printSchema()"
   ]
  },
  {
   "cell_type": "code",
   "execution_count": 5,
   "metadata": {},
   "outputs": [
    {
     "name": "stdout",
     "output_type": "stream",
     "text": [
      "+--------------------+------+\n",
      "|            email_id|ccount|\n",
      "+--------------------+------+\n",
      "|4a1331a5b49024cfe...|     2|\n",
      "|6ba80b6ade87f9c8f...|     3|\n",
      "|f4b613ea28504de3a...|     2|\n",
      "|fbb11341b453f2427...|     2|\n",
      "|f11d2a90fe01341e7...|     2|\n",
      "|a74c9c61c49dd0599...|     2|\n",
      "|becddea4c2f71d079...|     2|\n",
      "|ab2fede4e63f3a59f...|     2|\n",
      "|76862f3c747f1df5b...|     2|\n",
      "|041c37f576ed36f70...|     2|\n",
      "|efa5c97b0fc2dbb2b...|     2|\n",
      "|6ba6d26bfd5d962ca...|     3|\n",
      "|8493a3a50f7f380f1...|     2|\n",
      "|4546e3a4abbfbb965...|     2|\n",
      "|aa07f6fc71f0ff40f...|     2|\n",
      "|db813dd981068f380...|     2|\n",
      "|b13224ba6b46603ec...|     2|\n",
      "|2c5812458b13371bd...|     2|\n",
      "|e03055bef523150cd...|     2|\n",
      "|bfb2ec2e9faa4b0e6...|     2|\n",
      "+--------------------+------+\n",
      "only showing top 20 rows\n",
      "\n"
     ]
    }
   ],
   "source": [
    "#checking number of cookies against email_ids\n",
    "df.groupby(\"email_id\").agg(F.countDistinct(\"cookie_id\").alias(\"ccount\")).where(\"ccount>1\").show()"
   ]
  },
  {
   "cell_type": "code",
   "execution_count": 6,
   "metadata": {},
   "outputs": [
    {
     "name": "stdout",
     "output_type": "stream",
     "text": [
      "+--------------------+------+\n",
      "|           cookie_id|ecount|\n",
      "+--------------------+------+\n",
      "|931caa50-51d5-4d4...|     2|\n",
      "|91c7343d-046e-481...|     2|\n",
      "|f1a77923-c554-44b...|     2|\n",
      "|541cd73b-a785-434...|     2|\n",
      "|e6250835-6963-4cf...|     2|\n",
      "|d3306815-7239-43a...|     2|\n",
      "|10d3e108-a827-4b0...|     2|\n",
      "|17b0f072-fbbc-472...|     2|\n",
      "|dde6307f-d5f6-402...|     2|\n",
      "|f1bd5ff3-87c4-445...|     2|\n",
      "|5b57cff9-1be0-432...|     2|\n",
      "|33349554-9a39-414...|     2|\n",
      "|d4922b93-a097-474...|     2|\n",
      "|bc2448e4-b209-471...|     2|\n",
      "|a8fa0c5e-9d45-4fb...|     2|\n",
      "|3d55e031-133c-4cc...|     2|\n",
      "|908deb84-5e41-4e1...|     2|\n",
      "|9495117a-3ab1-4b4...|     2|\n",
      "|95897c24-8dea-492...|     2|\n",
      "|f95809a3-b9d9-472...|     2|\n",
      "+--------------------+------+\n",
      "only showing top 20 rows\n",
      "\n"
     ]
    }
   ],
   "source": [
    "#checking number of email_id against cookies\n",
    "df.groupby(\"cookie_id\").agg(F.countDistinct(\"email_id\").alias(\"ecount\")).where(\"ecount>1\").show()"
   ]
  },
  {
   "cell_type": "code",
   "execution_count": 7,
   "metadata": {},
   "outputs": [
    {
     "name": "stdout",
     "output_type": "stream",
     "text": [
      "+----------+------+\n",
      "|session_id|ccount|\n",
      "+----------+------+\n",
      "+----------+------+\n",
      "\n"
     ]
    }
   ],
   "source": [
    "#Check for M to M assciation of session with cookies\n",
    "df.groupby(\"session_id\").agg(F.countDistinct(\"cookie_id\").alias(\"ccount\")).where(\"ccount>1\").show()"
   ]
  },
  {
   "cell_type": "code",
   "execution_count": 8,
   "metadata": {},
   "outputs": [
    {
     "name": "stdout",
     "output_type": "stream",
     "text": [
      "+--------------------------------+\n",
      "|email_id                        |\n",
      "+--------------------------------+\n",
      "|null                            |\n",
      "|0007f376bec1442f7b848d36dbe02595|\n",
      "|0019749a13edbf0241bd4926ee6e9449|\n",
      "|002d59f0502a60130b998035426d4f62|\n",
      "|004626ad014df56188051434601719d5|\n",
      "|00618a360475b7b079598b5b4929d499|\n",
      "|0066e1a8672b73094bbd75ae51fdd4b9|\n",
      "|0076e5a358b7c26d86bbd22aa620324e|\n",
      "|007ebc5231d2838675051ac17e3788ec|\n",
      "|0094b4878bc15208874f2907869faae4|\n",
      "|009712fc0f2df6472ec17e76017cd4c4|\n",
      "|00ab7a02bdb070016ed9f143a83d9363|\n",
      "|00aebab61e2ea891654c622e233edfef|\n",
      "|00cd2b5aa429e34bfd6d547f9c0c6c2e|\n",
      "|00e5276b15171ccde699524d427c8bc6|\n",
      "|00e81428843ba9e66f1a348d3fe14763|\n",
      "|00eab6d9b81228273dafd5f723607b81|\n",
      "|00fa412ad5eae8e57b3e0917dc194ef7|\n",
      "|013c00a4002e23321366f7e64632ddf6|\n",
      "|013dc93f20ff1817077c33c155044501|\n",
      "+--------------------------------+\n",
      "only showing top 20 rows\n",
      "\n"
     ]
    }
   ],
   "source": [
    "#checking mail data\n",
    "df.select(\"email_id\").distinct().sort(\"email_id\").show(truncate=False)"
   ]
  },
  {
   "cell_type": "code",
   "execution_count": 9,
   "metadata": {},
   "outputs": [
    {
     "name": "stdout",
     "output_type": "stream",
     "text": [
      "+-----------------------+------------------------------------+-----------------------+------------------------------------+------------------------------------+--------------------------------+--------------------------------+----------+\n",
      "|collector_ts           |event_id                            |device_tstamp          |cookie_id                           |session_id                          |email_id                        |page_id                         |date      |\n",
      "+-----------------------+------------------------------------+-----------------------+------------------------------------+------------------------------------+--------------------------------+--------------------------------+----------+\n",
      "|2019-05-29 19:39:42.82 |002cb280-e563-447f-bbdb-65637277a4eb|2019-05-29 19:39:42.714|3bf98c9d-f648-4695-91cf-fe09d5679ecf|e47d3eff-07fe-4608-86ec-d158a283be82|null                            |625738828b8cf88f9a81d9c9578e2dab|2019-05-29|\n",
      "|2019-05-30 00:08:52.795|00ac063a-11f6-4fc0-be50-6b7c8293f1ab|2019-05-30 00:08:52.648|1a6bb4ef-bb59-4e25-8355-8e6d213fab9b|f1ab98f8-289c-4ffd-9a4b-b6b8997361a4|null                            |8018a67891d310cf48f8301c1b86b7b8|2019-05-29|\n",
      "|2019-05-29 09:15:33.815|00b56ec1-7020-4058-9bc0-b833614d60a4|2019-05-29 09:15:31.157|74c2bb1b-9a44-413e-9e7c-f9930243d54d|68b5cbe3-4441-44a4-837b-e3b9db37e607|null                            |7317f8889dd384e02caafd3dc95ada24|2019-05-29|\n",
      "|2019-05-29 18:58:37.341|00c50e3c-003e-4f82-b3c8-56e70a78a545|2019-05-29 18:58:36.495|bdad5dbe-e97c-44f6-b1e2-a43a483cca67|e97815ff-00ab-4280-a865-d0a6751a68d7|null                            |d1c884c95227a37407d863e30c4d1948|2019-05-29|\n",
      "|2019-05-29 22:27:47.326|01372ba5-139d-4328-8b10-b72c29fee4cf|2019-05-29 22:27:48.655|19b36d82-56d2-4b91-b93e-c4e292793e7c|79aee763-8c54-400d-b064-c16996776f64|null                            |5f32705a301de64518f45002a98cb312|2019-05-29|\n",
      "|2019-05-29 13:06:00.848|014d4a63-6d4f-4148-9f32-90eddcc13aea|2019-05-29 13:06:00.405|db17690d-fc30-4f5f-baf1-0b85dff212f9|45cfe43e-0385-4d02-91e0-78dc764004a7|null                            |f66991ca8f0b4b2f2fa0d9d6628eff95|2019-05-29|\n",
      "|2019-05-29 20:25:46.554|01e09875-dabf-4626-aec3-8b6c8571520a|2019-05-29 20:25:46.488|7d8533ec-02a5-4b41-86f4-567214189e78|14f1b5e8-2675-4371-b3a9-5bd73dd91aab|null                            |409f05aca52f2aeae02539df3c958734|2019-05-29|\n",
      "|2019-05-30 02:56:20.064|02009fd9-86a8-437f-a19c-2c57b5cfbb1b|2019-05-30 02:54:18.451|fe9023ba-2327-46fe-9eb3-a512c5ddb10c|40e63249-2d14-430b-804e-b423924ff24b|null                            |93dc0a3e84935e0ca5562e582781b7d2|2019-05-29|\n",
      "|2019-05-30 01:19:29.98 |0214cbb7-8b07-447e-ab03-7a12fb609732|2019-05-30 01:19:28.919|93539c4b-646f-4848-a0cf-41f0eb45293a|a06d38e5-d01c-424e-9bf0-fd4f4ad53027|null                            |424b07aaddd48b108fa399607c3fe448|2019-05-29|\n",
      "|2019-05-29 11:59:30.876|025c18cc-cf7a-4c53-8428-c50d694e3970|2019-05-29 11:59:30.454|9b13481a-ac20-4782-a205-b0a266d6bffb|40b1f975-7069-4c4d-b3d3-9d2b93b0dbde|null                            |9773283a1e1cf5e7d815dd5856d866f3|2019-05-29|\n",
      "|2019-05-29 21:02:29.42 |02b602d2-f455-4bc8-b98f-d451f4d7d753|2019-05-29 21:02:26.98 |ac6e8d94-abb2-40f4-8748-fad86b73ca46|8b9b82e6-b394-4b4f-8343-684a48a9df67|null                            |db694666c288f61fbcbe0c15530922ca|2019-05-29|\n",
      "|2019-05-30 03:12:04.776|02ffcee3-a458-4369-be20-675283868e63|2019-05-30 03:12:04.446|59ca02f1-befd-4e3c-a95c-7061ed38fc60|b7dafcab-610b-4d6a-b4fc-e58fa9552192|null                            |00a040bf459d89437f54606c0a5f37a7|2019-05-29|\n",
      "|2019-05-29 15:42:07.713|030dc49e-efe9-481a-9519-972ed98f5147|2019-05-29 15:42:07.648|613d3bc0-161c-4a52-85e7-ae90ceda0b76|07a2ce5d-5095-4370-ba61-cc3c47d338a1|ce3a749623fcf6dd61392dede2ff94f2|8214a14490ce040bc4ae47e97f10d9b9|2019-05-29|\n",
      "|2019-05-29 21:39:41.948|033a7fe1-9b8f-4463-8d40-d50e58f3749e|2019-05-29 21:39:41.85 |c43ca8d1-74f8-4929-ae18-70e2953ad20c|103357be-98ce-4720-b505-971630fdda3e|null                            |d1764a2a806680afcbfccd8e51c4c0a5|2019-05-29|\n",
      "|2019-05-30 03:07:08.829|03e06a67-34cb-47d4-9efd-6bce7a1953ed|2019-05-30 03:07:08.426|40430e66-6b2d-458a-a372-b32fa9202bf5|04d4c2ce-4bcf-4ddc-b16e-7f3a9a49f244|null                            |4dc7fa0f3a6e298811e64a3cd8a6f036|2019-05-29|\n",
      "|2019-05-29 15:01:38.507|03e7594c-4160-480a-9124-4deb1e7caf2a|2019-05-29 15:02:05.819|83aa5c90-f9b1-4f36-ae3d-3c337b585ab2|b3af9274-b06c-4362-ad63-3ad989063a38|null                            |db694666c288f61fbcbe0c15530922ca|2019-05-29|\n",
      "|2019-05-29 22:17:57.059|03f217fc-3759-47b9-99bb-14a8c7dda561|2019-05-29 22:17:53.324|5140b8d1-f65f-472c-9a71-8bd414340d60|7ac9fb11-2de7-48e7-9026-e522f396e697|null                            |4622afd49a1b22958ea8881adfde397d|2019-05-29|\n",
      "|2019-05-29 18:34:55.614|0481af1a-98d1-400c-884c-3a2c566c92d7|2019-05-29 18:34:53.021|b8a7065d-5fac-469f-9939-9cc11b99e354|c0c3d4fc-0aaf-44f2-9a56-fe710cfa2857|null                            |0153f6f3960ab361097f2c4b90bc33c3|2019-05-29|\n",
      "|2019-05-29 10:30:30.762|04a1188c-560f-45ef-b83c-7a68092ed389|2019-05-29 10:30:30.039|5128b3c6-27dc-4e1a-a8f6-6ffb73ececca|ba8ed023-0819-4881-9d4f-7384349dfcf0|null                            |a19ea3830ee3762a13ff0970130bc705|2019-05-29|\n",
      "|2019-05-29 19:58:04.067|04a593fb-2a35-4568-ba15-030c9a04af68|2019-05-29 19:58:02.877|97aeb613-ad24-4e1d-a3b1-7dea750e444b|c81a30fa-0fe3-4934-af18-10ac74b04df8|null                            |c750d6f068d29335aa5211f1bb122ac5|2019-05-29|\n",
      "+-----------------------+------------------------------------+-----------------------+------------------------------------+------------------------------------+--------------------------------+--------------------------------+----------+\n",
      "only showing top 20 rows\n",
      "\n"
     ]
    }
   ],
   "source": [
    "df.show(truncate=False)"
   ]
  },
  {
   "cell_type": "markdown",
   "metadata": {},
   "source": [
    "# Rough Work -- End"
   ]
  },
  {
   "cell_type": "code",
   "execution_count": 10,
   "metadata": {
    "collapsed": true
   },
   "outputs": [],
   "source": [
    "df = sqlContext.read.parquet(\"data\")"
   ]
  },
  {
   "cell_type": "markdown",
   "metadata": {},
   "source": [
    "# Question 1"
   ]
  },
  {
   "cell_type": "markdown",
   "metadata": {},
   "source": [
    "##### [20 points] Create a dataset with site entries as rows (a site entry denotes the first event of a session) including the time of the event and page ID and save it to a file partitioned per day. Print the top 10 entry pages per month (page IDs with highest number of site entries)."
   ]
  },
  {
   "cell_type": "markdown",
   "metadata": {},
   "source": [
    "**First Part** - Create a dataset with site entries as rows (a site entry denotes the first\n",
    "event of a session) including the time of the event and page ID and save it to a file\n",
    "partitioned per day"
   ]
  },
  {
   "cell_type": "code",
   "execution_count": 11,
   "metadata": {
    "collapsed": true
   },
   "outputs": [],
   "source": [
    "df.select(\"session_id\", \"page_id\", \"collector_ts\").distinct()\\\n",
    ".withColumn(\n",
    "    \"visit_order\", \n",
    "    F.rank().over(\n",
    "        W.partitionBy(\"session_id\").orderBy(F.col(\"collector_ts\").asc())\n",
    "    )\n",
    ").where(\"visit_order = 1\").drop(\"visit_order\")\\\n",
    ".withColumn(\n",
    "    \"date\", \n",
    "    F.to_date(\"collector_ts\")\n",
    ")\\\n",
    ".write.mode(\"overwrite\").parquet(\"site_entries\", partitionBy=[\"date\"])"
   ]
  },
  {
   "cell_type": "code",
   "execution_count": 12,
   "metadata": {},
   "outputs": [
    {
     "name": "stdout",
     "output_type": "stream",
     "text": [
      "+------------------------------------+--------------------------------+-----------------------+----------+\n",
      "|session_id                          |page_id                         |collector_ts           |date      |\n",
      "+------------------------------------+--------------------------------+-----------------------+----------+\n",
      "|0549aa28-75b6-4a75-b713-d694c1f60921|db694666c288f61fbcbe0c15530922ca|2019-05-04 22:14:18.093|2019-05-04|\n",
      "|0e995cc6-a1bb-4417-a73b-04310e501bbe|f2709e58e917db3b2f9073017c57bccc|2019-05-04 22:49:00.874|2019-05-04|\n",
      "|10574ac2-6617-474c-ab12-83d342902e9e|88e51958b73b519fc23c3271a923c776|2019-05-04 14:26:45.115|2019-05-04|\n",
      "|14efe5a6-f557-433a-9650-d6974f88a63d|8cd220661f62f435e44ff5d1172e7ba7|2019-05-04 14:54:21.447|2019-05-04|\n",
      "|1979a2d7-8fb6-42b7-892d-e93050797956|db694666c288f61fbcbe0c15530922ca|2019-05-04 23:17:14.467|2019-05-04|\n",
      "|1dcac440-8791-4557-90b3-401a5ba1c8d1|db694666c288f61fbcbe0c15530922ca|2019-05-04 23:11:26.034|2019-05-04|\n",
      "|23e8a781-cf87-4c41-b075-22b42ec9e62b|c448aa7799d6388edba2ca5916bcc2b2|2019-05-04 12:06:49.528|2019-05-04|\n",
      "|2715434e-0c28-406e-8647-0538632d0cc2|db694666c288f61fbcbe0c15530922ca|2019-05-04 19:51:29.152|2019-05-04|\n",
      "|2e8074a3-e036-4af2-8b1d-320df312e702|7270c9fd187f485da0bf1dc54d80b8e6|2019-05-04 02:04:32.598|2019-05-04|\n",
      "|30909fbb-1799-47c9-a5e8-a1832b22fcb2|db694666c288f61fbcbe0c15530922ca|2019-05-04 16:46:05.026|2019-05-04|\n",
      "|315289a8-95c3-4207-9f54-2c7d1a939262|d82c62cd46ff9ebe10aa3789b0ed5d40|2019-05-04 02:01:32.618|2019-05-04|\n",
      "|359146b1-4497-4edd-80ab-98076c15c28b|c0c76cb3454926042206e5ae46e3862a|2019-05-04 11:40:40.792|2019-05-04|\n",
      "|3e625168-c481-43a7-959e-0b8561880202|db694666c288f61fbcbe0c15530922ca|2019-05-04 08:55:48.224|2019-05-04|\n",
      "|4a776068-515a-4ed5-9e73-cb0b3016a792|eb126852c373065b9de3c99077e4ac3a|2019-05-04 03:05:06.511|2019-05-04|\n",
      "|4bde2abd-234e-4b5c-a254-29e29d660f17|db694666c288f61fbcbe0c15530922ca|2019-05-04 19:12:15.813|2019-05-04|\n",
      "|4be12947-f129-4652-9322-e6d7a07c4696|db694666c288f61fbcbe0c15530922ca|2019-05-04 00:43:55.336|2019-05-04|\n",
      "|60da179d-17d4-4203-a5e9-c246e867bc95|db694666c288f61fbcbe0c15530922ca|2019-05-04 19:32:21.435|2019-05-04|\n",
      "|664c6eee-2ed9-406a-b06e-9ffaee26965a|db694666c288f61fbcbe0c15530922ca|2019-05-04 18:09:19.929|2019-05-04|\n",
      "|6b360a9a-b598-48e3-b4b6-f2e2b5a03171|db694666c288f61fbcbe0c15530922ca|2019-05-04 19:09:12.026|2019-05-04|\n",
      "|76949dce-b27d-40ef-8890-ec3662751f27|4462d0289c3a59bf270bfc62941d4604|2019-05-04 07:10:57.973|2019-05-04|\n",
      "+------------------------------------+--------------------------------+-----------------------+----------+\n",
      "only showing top 20 rows\n",
      "\n"
     ]
    }
   ],
   "source": [
    "sqlContext.read.parquet(\"site_entries\").show(truncate=False)"
   ]
  },
  {
   "cell_type": "markdown",
   "metadata": {},
   "source": [
    "**Second Part** - Print the top 10 entry pages per month (page IDs with highest number of site entries)."
   ]
  },
  {
   "cell_type": "code",
   "execution_count": 13,
   "metadata": {},
   "outputs": [
    {
     "name": "stdout",
     "output_type": "stream",
     "text": [
      "+-----+--------------------------------+----------+----+\n",
      "|month|page_id                         |page_count|rank|\n",
      "+-----+--------------------------------+----------+----+\n",
      "|20194|db694666c288f61fbcbe0c15530922ca|14486     |1   |\n",
      "|20194|d275790e1fd374c7bd17c95852567ef3|1987      |2   |\n",
      "|20194|424b07aaddd48b108fa399607c3fe448|362       |3   |\n",
      "|20194|6d79e10ec5d60f4b478e6b889ef45497|342       |4   |\n",
      "|20194|9360f72c202c5a9e5e0b2576016f2dae|252       |5   |\n",
      "|20194|a1b8959aab37ab7dc915f9bfaaba0f2a|203       |6   |\n",
      "|20194|b03237c17b4e1fbe28eb1afef0a7f9d0|194       |7   |\n",
      "|20194|35ce5943f3b00e9dddacaa0695d917d5|190       |8   |\n",
      "|20194|73457518974378b52873dc3e9e1882f1|188       |9   |\n",
      "|20194|f66991ca8f0b4b2f2fa0d9d6628eff95|181       |10  |\n",
      "|20195|db694666c288f61fbcbe0c15530922ca|51370     |1   |\n",
      "|20195|d275790e1fd374c7bd17c95852567ef3|5791      |2   |\n",
      "|20195|9edc0c4fd1fdff33d2d82984f31c364f|2160      |3   |\n",
      "|20195|c750d6f068d29335aa5211f1bb122ac5|1378      |4   |\n",
      "|20195|424b07aaddd48b108fa399607c3fe448|980       |5   |\n",
      "|20195|7f9b729e1d4ef5ea6c6a8fa49caa3b0b|958       |6   |\n",
      "|20195|d651e2c01a9e01e0a1ea2f6713895e5f|949       |7   |\n",
      "|20195|6d79e10ec5d60f4b478e6b889ef45497|812       |8   |\n",
      "|20195|038724c958f7b4872849588c8b87cfc7|726       |9   |\n",
      "|20195|f66991ca8f0b4b2f2fa0d9d6628eff95|601       |10  |\n",
      "+-----+--------------------------------+----------+----+\n",
      "\n"
     ]
    }
   ],
   "source": [
    "sqlContext.read.parquet(\"site_entries\").groupby(\n",
    "    F.concat(F.year(\"date\"),F.month(\"date\")).alias(\"month\"), \n",
    "    \"page_id\"\n",
    ").agg(\n",
    "    F.count(\"session_id\").alias(\"page_count\")\n",
    ").withColumn(\n",
    "    \"rank\", \n",
    "    F.row_number().over(\n",
    "        W.partitionBy(\"month\").orderBy(F.col(\"page_count\").desc())\n",
    "    )\n",
    ").filter(\n",
    "    F.col(\"rank\") <= 10\n",
    ").show(truncate=False)"
   ]
  },
  {
   "cell_type": "markdown",
   "metadata": {},
   "source": [
    "# Question - 2"
   ]
  },
  {
   "cell_type": "markdown",
   "metadata": {},
   "source": [
    "##### [30 points] Determine following three numbers: the number of unique cookie IDs, the number of unique email IDs, and the number of unique real users (actual physical users like you, or the barista in your favorite coffee shop). Please also provide some verbal discussion of your core assumptions for calculating the number of unique real users, the tradeoffs these assumptions imply and other thoughts you might have."
   ]
  },
  {
   "cell_type": "markdown",
   "metadata": {},
   "source": [
    "**First Part** - The number of unique cookie_id (For each event occuring on website have a cookie associated so there is no need to check null entries, if cookie is null then probably block this at triggering end)"
   ]
  },
  {
   "cell_type": "code",
   "execution_count": 14,
   "metadata": {},
   "outputs": [
    {
     "data": {
      "text/plain": [
       "109939"
      ]
     },
     "execution_count": 14,
     "metadata": {},
     "output_type": "execute_result"
    }
   ],
   "source": [
    "df.select(\"cookie_id\").distinct().count()"
   ]
  },
  {
   "cell_type": "markdown",
   "metadata": {},
   "source": [
    "**Second Part** - The number of unique email_id (A pageview event can be done by anyone which can be a logged in or non-logged in user, so events can have null as mail. To count unique email_id filter out null entries from data set)"
   ]
  },
  {
   "cell_type": "code",
   "execution_count": 15,
   "metadata": {},
   "outputs": [
    {
     "data": {
      "text/plain": [
       "3651"
      ]
     },
     "execution_count": 15,
     "metadata": {},
     "output_type": "execute_result"
    }
   ],
   "source": [
    "df.where(\"email_id is not null\").select(\"email_id\").distinct().count()"
   ]
  },
  {
   "cell_type": "markdown",
   "metadata": {},
   "source": [
    "**Thrid Part** - The number of unique real users (actual physical users like you, or the barista in your favorite coffee shop) - \n",
    "\n",
    "*I am considering real users as unique email ids and cookies which wouldn't have any mail id associated*  \n",
    "\n",
    "**Formula** - Unique_Mails + (distinct_cookies_without_mail-distinct_cookies_with_mail)\n",
    "\n",
    "(After caclculations i have more assumptions)"
   ]
  },
  {
   "cell_type": "code",
   "execution_count": 16,
   "metadata": {},
   "outputs": [
    {
     "data": {
      "text/plain": [
       "3651"
      ]
     },
     "execution_count": 16,
     "metadata": {},
     "output_type": "execute_result"
    }
   ],
   "source": [
    "uniqe_mail_ids = df.where(\"email_id is not null\").select(\"email_id\").distinct()\n",
    "uniqe_mail_ids.count()"
   ]
  },
  {
   "cell_type": "code",
   "execution_count": 17,
   "metadata": {},
   "outputs": [
    {
     "data": {
      "text/plain": [
       "3775"
      ]
     },
     "execution_count": 17,
     "metadata": {},
     "output_type": "execute_result"
    }
   ],
   "source": [
    "cookies_with_email_ids = df.where(\"email_id is not null\").select(\"cookie_id\").distinct()\n",
    "cookies_with_email_ids.count()"
   ]
  },
  {
   "cell_type": "code",
   "execution_count": 18,
   "metadata": {},
   "outputs": [
    {
     "data": {
      "text/plain": [
       "109898"
      ]
     },
     "execution_count": 18,
     "metadata": {},
     "output_type": "execute_result"
    }
   ],
   "source": [
    "cookies_without_any_email_ids = df.where(\"email_id is null\").select(\"cookie_id\").distinct()\n",
    "cookies_without_any_email_ids.count()"
   ]
  },
  {
   "cell_type": "code",
   "execution_count": 19,
   "metadata": {},
   "outputs": [
    {
     "data": {
      "text/plain": [
       "106164"
      ]
     },
     "execution_count": 19,
     "metadata": {},
     "output_type": "execute_result"
    }
   ],
   "source": [
    "cookies_without_any_email_ids.subtract(cookies_with_email_ids).count()"
   ]
  },
  {
   "cell_type": "code",
   "execution_count": 20,
   "metadata": {},
   "outputs": [
    {
     "data": {
      "text/plain": [
       "109815"
      ]
     },
     "execution_count": 20,
     "metadata": {},
     "output_type": "execute_result"
    }
   ],
   "source": [
    "#Unique_Mails + (distinct_cookies_without_mail-distinct_cookies_with_mail)\n",
    "uniqe_mail_ids.unionAll(\n",
    "    cookies_without_any_email_ids.subtract(\n",
    "        cookies_with_email_ids\n",
    "    ).select(F.col(\"cookie_id\").alias(\"email_id\"))\n",
    ").count()"
   ]
  },
  {
   "cell_type": "markdown",
   "metadata": {},
   "source": [
    "### Assumptions for Finiding Real Users\n",
    "\n",
    "*By looking at rough finding its concluded that cookies to email have M:M mapping (for this type of sitatution it becomes difficult to count real users. counting real users depends on business use case whether to count it as one or multi), Below are my other assumptions for finidng real users - *\n",
    "\n",
    "- Unique Email Ids are our actual users\n",
    "    - A person can have multiple email ids and can register with Many. In this case we need to do more R&D to label them as same users\n",
    "\n",
    "\n",
    "- The cookie_id without any email_id associated can be actual user (without login)\n",
    "\n",
    "It depends on use case whether to consider any one point or both above mentioned points\n",
    "\n"
   ]
  }
 ],
 "metadata": {
  "kernelspec": {
   "display_name": "Python 2",
   "language": "python",
   "name": "python2"
  },
  "language_info": {
   "codemirror_mode": {
    "name": "ipython",
    "version": 2
   },
   "file_extension": ".py",
   "mimetype": "text/x-python",
   "name": "python",
   "nbconvert_exporter": "python",
   "pygments_lexer": "ipython2",
   "version": "2.7.6"
  }
 },
 "nbformat": 4,
 "nbformat_minor": 2
}
