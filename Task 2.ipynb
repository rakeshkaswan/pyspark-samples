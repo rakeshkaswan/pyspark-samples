{
 "cells": [
  {
   "cell_type": "markdown",
   "metadata": {},
   "source": [
    "# Question 1"
   ]
  },
  {
   "cell_type": "markdown",
   "metadata": {},
   "source": [
    "#### [10 points] What are potential explanations for having a ‘one to many’ relationship in both directions between cookie_ids and email_ids and how would you deal with them?"
   ]
  },
  {
   "cell_type": "markdown",
   "metadata": {},
   "source": [
    "**Cookies to Email (1:M)** - A Cookie is a unique number which is associated with a Device or a Browser with some time span or can be life long.\n",
    "- When a Cookie is associated with a Browser \n",
    "    - There are chances that no one can login (A cookie without mail)\n",
    "    - A user can login multiple times by same Browser\n",
    "        - Same user can login with differnt Mail ID on same Browser\n",
    "    - Differnt User can login With other/own Mail ID on same Browser\n",
    "    \n",
    "*This way a single Cookie ID can have multiple relationship with mail [no mail, many mail (self and other)] *"
   ]
  },
  {
   "cell_type": "markdown",
   "metadata": {},
   "source": [
    "**Email to Cookies (1:M)** - \n",
    "- One Person can use multiple Browsers to Login\n",
    "- One Person can use other Device to Login (Device other than usual)\n",
    "    \n",
    "*This way a single Email can have multiple relationship with Cookies (Cookies associated with distinct Devices and Browser) *"
   ]
  },
  {
   "cell_type": "markdown",
   "metadata": {},
   "source": [
    "** How would you deal with them? **\n",
    "- In Case of Email to multi Cookie mainly we have to focus on mail. As it is main component for uniqueness, A Person uses multiple Devices or Browsers in following situations- \n",
    "    - Either changed Device\n",
    "    - Travelling somewhere and can't have access to same Browser \n",
    "    - Can Have problem with Browser or Device\n",
    "- In case of Cookie to Multi Email, we have to consider other things to make a decision. These things can be - \n",
    "    - If no Email used obviously focus on Cookie \n",
    "    - If Logins then focus in Mail\n",
    "    - By focusing on history of Cookie we can trace events assciated and can make assumption whether same user is logged in via different mail"
   ]
  },
  {
   "cell_type": "markdown",
   "metadata": {},
   "source": [
    "# Question 2"
   ]
  },
  {
   "cell_type": "markdown",
   "metadata": {},
   "source": [
    "#### [10 points] What are potential timing issues (such as users that come with a new device and log in after we have been observing them for a few days already) and how would you deal with them?\n",
    "\n",
    "\n",
    "- such as users that come with a new device and log in after we have been observing them for a few days already\n",
    "    - Initially we are considering it as new user, after login we have to flag it as existing User\n",
    "- Some User can Create new Login ID by using same Cookie or by Other Cookie too\n",
    "- Multiple User can Login with Same Device\n",
    "- If user woudn't provide enough information to find a relation with differnt emails used\n",
    "\n",
    "\n",
    "\n",
    "\n",
    "Streaming data have Cache type properties which can flush out after some time. So identifying users from streamed data we must have a hash mapping of available mails.\n"
   ]
  },
  {
   "cell_type": "markdown",
   "metadata": {},
   "source": [
    "# Question 3"
   ]
  },
  {
   "cell_type": "markdown",
   "metadata": {},
   "source": [
    "##### [10 points] What are further potential user matching issues in a streaming environment and how would you set up a user matching procedure in such an environment?\n",
    "\n",
    "- Some users can use new device and can't login for life span.Just uses this device for comparison and other for Booking. \n",
    "- Some users can be lapsers who deletes history (which deletes cookies) and can login (create new account) by new mail id\n",
    "- Discrimination between new/returning user - How we can identify new and existing user if user changes identity like device, location or browser\n",
    "- If multiple user are using same browser how we can segregate new and existing user\n",
    "- If streaming environment is not updated with lastest user base\n",
    "\n",
    "\n",
    "**how would you set up a user matching procedure in such an environment?**\n",
    "- Better is to start capturing identity like device id, location\n",
    "- Make sure to Update Cache part of environment so can hanle issues\n",
    "- Make sure to trace history and compare with previous activity\n"
   ]
  }
 ],
 "metadata": {
  "kernelspec": {
   "display_name": "Python 2",
   "language": "python",
   "name": "python2"
  },
  "language_info": {
   "codemirror_mode": {
    "name": "ipython",
    "version": 2
   },
   "file_extension": ".py",
   "mimetype": "text/x-python",
   "name": "python",
   "nbconvert_exporter": "python",
   "pygments_lexer": "ipython2",
   "version": "2.7.6"
  }
 },
 "nbformat": 4,
 "nbformat_minor": 2
}
